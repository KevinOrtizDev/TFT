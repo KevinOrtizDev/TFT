{
 "cells": [
  {
   "cell_type": "code",
   "execution_count": 1,
   "metadata": {},
   "outputs": [],
   "source": [
    "import numpy as np\n",
    "from torch.utils.data import Dataset\n",
    "from PIL import Image\n",
    "import os\n"
   ]
  },
  {
   "cell_type": "code",
   "execution_count": 9,
   "metadata": {},
   "outputs": [],
   "source": [
    "url_imagen = \"C:/Users/ortiz/OneDrive/Escritorio/TFG DOCUMENTS/Segmentacion_Imagenes/Imagen_Seccionado_128x128\"\n",
    "url_label = \"C:/Users/ortiz/OneDrive/Escritorio/TFG DOCUMENTS/Segmentacion_Imagenes/Label_Seccionado_128x128\"\n",
    "url_imagen_test= \"C:/Users/ortiz/OneDrive/Escritorio/TFG DOCUMENTS/Segmentacion_Imagenes/Imagenes_test_128x128\"\n",
    "url_label_test = \"C:/Users/ortiz/OneDrive/Escritorio/TFG DOCUMENTS/Segmentacion_Imagenes/Label_test_128x128\"\n",
    "volumes = list(filter(lambda x: True if 'volume-' in x else False, os.listdir(url_imagen)))\n",
    "data = []\n",
    "targets = []\n",
    "for volume_id in volumes:\n",
    "  img_dir = os.path.join(url_imagen, volume_id)\n",
    "  target_dir = os.path.join(url_label, volume_id)\n",
    "  \n",
    "  samples = list(map(lambda x: os.path.join(img_dir, x), sorted(os.listdir(img_dir))))\n",
    "  labels = list(map(lambda x: os.path.join(target_dir, x), sorted(os.listdir(target_dir))))\n",
    "  data.extend(samples)\n",
    "  targets.extend(labels)\n",
    "\n"
   ]
  },
  {
   "cell_type": "code",
   "execution_count": 10,
   "metadata": {},
   "outputs": [],
   "source": [
    "\n",
    "count=0\n",
    "for _ in data:\n",
    "    name=data[count].split(\"\\\\\")[2].split(\".\")[0]\n",
    "    label=targets[count].split(\"\\\\\")[2].split(\".\")[0]\n",
    "    if name!=label:\n",
    "        print('Hay errores en la base de datos. Hay algun label o imagen sin pareja. Problema encontrado en la ruta: \\n'+data[count]+\"\\n\"+targets[count])   \n",
    "    count=count+1\n"
   ]
  }
 ],
 "metadata": {
  "kernelspec": {
   "display_name": "env_TFT",
   "language": "python",
   "name": "python3"
  },
  "language_info": {
   "codemirror_mode": {
    "name": "ipython",
    "version": 3
   },
   "file_extension": ".py",
   "mimetype": "text/x-python",
   "name": "python",
   "nbconvert_exporter": "python",
   "pygments_lexer": "ipython3",
   "version": "3.9.16"
  },
  "orig_nbformat": 4
 },
 "nbformat": 4,
 "nbformat_minor": 2
}
